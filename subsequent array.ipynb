{
 "cells": [
  {
   "cell_type": "code",
   "execution_count": 9,
   "metadata": {},
   "outputs": [],
   "source": [
    "def consecutive_array(array):\n",
    "    array.sort()\n",
    "    consecutive_arrays=[]\n",
    "    for i in range(0,len(array)):\n",
    "        consecutive_array=[]\n",
    "        for j in range(i,len(array)):\n",
    "            if array[j] in consecutive_array:\n",
    "                continue\n",
    "            else:\n",
    "                if len(consecutive_array)==0:\n",
    "                    consecutive_array.append(array[j])\n",
    "                else:\n",
    "                    if consecutive_array[-1]+1==array[j]:\n",
    "                        consecutive_array.append(array[j])\n",
    "        consecutive_arrays.append(consecutive_array)\n",
    "    maxx=0\n",
    "    long=0\n",
    "    for m in consecutive_arrays:\n",
    "        if len(m)>maxx:\n",
    "            maxx=len(m)\n",
    "            long=m\n",
    "            \n",
    "            \n",
    "            \n",
    "    print(long)"
   ]
  },
  {
   "cell_type": "code",
   "execution_count": 12,
   "metadata": {},
   "outputs": [
    {
     "name": "stdout",
     "output_type": "stream",
     "text": [
      "[1, 2, 3, 4, 5, 6, 7, 8, 9]\n"
     ]
    }
   ],
   "source": [
    "consecutive_array([2,8,1,6,7,3,9,4,5,20,30,21,31,22,23,24,25,26,27,28,])"
   ]
  },
  {
   "cell_type": "code",
   "execution_count": null,
   "metadata": {},
   "outputs": [],
   "source": []
  }
 ],
 "metadata": {
  "kernelspec": {
   "display_name": "Python 3",
   "language": "python",
   "name": "python3"
  },
  "language_info": {
   "codemirror_mode": {
    "name": "ipython",
    "version": 3
   },
   "file_extension": ".py",
   "mimetype": "text/x-python",
   "name": "python",
   "nbconvert_exporter": "python",
   "pygments_lexer": "ipython3",
   "version": "3.6.11"
  }
 },
 "nbformat": 4,
 "nbformat_minor": 2
}
